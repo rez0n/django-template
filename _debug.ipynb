{
 "cells": [
  {
   "cell_type": "code",
   "execution_count": 1,
   "id": "initial_id",
   "metadata": {
    "ExecuteTime": {
     "end_time": "2023-09-26T17:12:41.962412Z",
     "start_time": "2023-09-26T17:12:41.956911Z"
    }
   },
   "outputs": [
    {
     "name": "stdout",
     "output_type": "stream",
     "text": [
      "core.User\n"
     ]
    }
   ],
   "source": [
    "from django.conf import settings\n",
    "import os\n",
    "import django\n",
    "os.environ.setdefault('DJANGO_SETTINGS_MODULE', 'app.settings_dev')\n",
    "os.environ[\"DJANGO_ALLOW_ASYNC_UNSAFE\"] = \"true\"\n",
    "django.setup()\n",
    "\n",
    "user_model_name = settings.AUTH_USER_MODEL\n",
    "print(user_model_name)\n"
   ]
  }
 ],
 "metadata": {
  "kernelspec": {
   "name": "django_extensions",
   "language": "python",
   "display_name": "Django Shell-Plus"
  },
  "language_info": {
   "codemirror_mode": {
    "name": "ipython",
    "version": 3
   },
   "file_extension": ".py",
   "mimetype": "text/x-python",
   "name": "python",
   "nbconvert_exporter": "python",
   "pygments_lexer": "ipython3",
   "version": "3.11.5"
  }
 },
 "nbformat": 4,
 "nbformat_minor": 5
}
